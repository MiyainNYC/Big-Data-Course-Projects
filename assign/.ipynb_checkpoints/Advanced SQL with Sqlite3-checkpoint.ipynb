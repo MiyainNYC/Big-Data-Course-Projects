{
 "cells": [
  {
   "cell_type": "code",
   "execution_count": 149,
   "metadata": {
    "collapsed": false
   },
   "outputs": [],
   "source": [
    "import sqlite3,csv\n",
    "from pandas import DataFrame\n",
    "%matplotlib inline"
   ]
  },
  {
   "cell_type": "code",
   "execution_count": 2,
   "metadata": {
    "collapsed": false
   },
   "outputs": [
    {
     "data": {
      "text/plain": [
       "'2.6.0'"
      ]
     },
     "execution_count": 2,
     "metadata": {},
     "output_type": "execute_result"
    }
   ],
   "source": [
    "sqlite3.version"
   ]
  },
  {
   "cell_type": "code",
   "execution_count": 133,
   "metadata": {
    "collapsed": false
   },
   "outputs": [
    {
     "data": {
      "text/plain": [
       "<sqlite3.Cursor at 0xb7241b7730>"
      ]
     },
     "execution_count": 133,
     "metadata": {},
     "output_type": "execute_result"
    }
   ],
   "source": [
    "con = sqlite3.connect(\":memory:\")\n",
    "cur = con.cursor()\n",
    "cur.execute(\"CREATE TABLE sales (product_line,product_name,seller,day,month,quarter,year,forecast_revenue,revenue,quantity,unit_price,unit_cost,retailer_name,retailer_country,region);\")\n"
   ]
  },
  {
   "cell_type": "code",
   "execution_count": 134,
   "metadata": {
    "collapsed": false
   },
   "outputs": [],
   "source": [
    " # `with` statement available in 2.5+\n",
    "# csv.DictReader uses first line in file for column headings by default\n",
    "with open('sales.csv', \"r\",encoding='utf-8', errors='ignore') as file:\n",
    "    dr = csv.DictReader(file) # comma is default delimiter\n",
    "    to_db = [(i['product_line'], i['product_name'],i['seller'],i['day'],i['month'],i['quarter'],i['year'],i['forecast_revenue'],i['revenue'],i['quantity'],i['unit_price'],i['unit_cost'],i['retailer_name'],i['retailer_country'],i['region']) for i in dr]"
   ]
  },
  {
   "cell_type": "code",
   "execution_count": 135,
   "metadata": {
    "collapsed": false
   },
   "outputs": [
    {
     "data": {
      "text/plain": [
       "<sqlite3.Cursor at 0xb7241b7730>"
      ]
     },
     "execution_count": 135,
     "metadata": {},
     "output_type": "execute_result"
    }
   ],
   "source": [
    "cur.executemany(\"INSERT INTO sales (product_line,product_name,seller,day,month,quarter,year,forecast_revenue,revenue,quantity,unit_price,unit_cost,retailer_name,retailer_country,region) VALUES (?, ?, ?, ?, ?, ?, ?, ?, ?, ?, ?, ?, ?, ?, ?);\", to_db)"
   ]
  },
  {
   "cell_type": "markdown",
   "metadata": {},
   "source": [
    "**List the average revenue and average forecasted revenue for all product line in all regions in the past.**"
   ]
  },
  {
   "cell_type": "code",
   "execution_count": 88,
   "metadata": {
    "collapsed": false
   },
   "outputs": [
    {
     "data": {
      "text/html": [
       "<div>\n",
       "<table border=\"1\" class=\"dataframe\">\n",
       "  <thead>\n",
       "    <tr style=\"text-align: right;\">\n",
       "      <th></th>\n",
       "      <th>product_line</th>\n",
       "      <th>region</th>\n",
       "      <th>year</th>\n",
       "      <th>avg_revenue</th>\n",
       "      <th>avg_forecast</th>\n",
       "      <th>num_of_orders</th>\n",
       "    </tr>\n",
       "  </thead>\n",
       "  <tbody>\n",
       "    <tr>\n",
       "      <th>0</th>\n",
       "      <td>Camping Equipment</td>\n",
       "      <td>Americas</td>\n",
       "      <td>2011</td>\n",
       "      <td>26577.600130</td>\n",
       "      <td>28368.690978</td>\n",
       "      <td>3232</td>\n",
       "    </tr>\n",
       "    <tr>\n",
       "      <th>1</th>\n",
       "      <td>Camping Equipment</td>\n",
       "      <td>Americas</td>\n",
       "      <td>2012</td>\n",
       "      <td>46921.296888</td>\n",
       "      <td>49398.990656</td>\n",
       "      <td>2378</td>\n",
       "    </tr>\n",
       "    <tr>\n",
       "      <th>2</th>\n",
       "      <td>Camping Equipment</td>\n",
       "      <td>Asia Pacific</td>\n",
       "      <td>2011</td>\n",
       "      <td>27446.259677</td>\n",
       "      <td>29138.288396</td>\n",
       "      <td>1858</td>\n",
       "    </tr>\n",
       "    <tr>\n",
       "      <th>3</th>\n",
       "      <td>Camping Equipment</td>\n",
       "      <td>Asia Pacific</td>\n",
       "      <td>2012</td>\n",
       "      <td>26458.129355</td>\n",
       "      <td>27874.797240</td>\n",
       "      <td>2138</td>\n",
       "    </tr>\n",
       "    <tr>\n",
       "      <th>4</th>\n",
       "      <td>Camping Equipment</td>\n",
       "      <td>Central Europe</td>\n",
       "      <td>2011</td>\n",
       "      <td>26100.829450</td>\n",
       "      <td>27676.621427</td>\n",
       "      <td>2874</td>\n",
       "    </tr>\n",
       "  </tbody>\n",
       "</table>\n",
       "</div>"
      ],
      "text/plain": [
       "        product_line          region  year   avg_revenue  avg_forecast  \\\n",
       "0  Camping Equipment        Americas  2011  26577.600130  28368.690978   \n",
       "1  Camping Equipment        Americas  2012  46921.296888  49398.990656   \n",
       "2  Camping Equipment    Asia Pacific  2011  27446.259677  29138.288396   \n",
       "3  Camping Equipment    Asia Pacific  2012  26458.129355  27874.797240   \n",
       "4  Camping Equipment  Central Europe  2011  26100.829450  27676.621427   \n",
       "\n",
       "   num_of_orders  \n",
       "0           3232  \n",
       "1           2378  \n",
       "2           1858  \n",
       "3           2138  \n",
       "4           2874  "
      ]
     },
     "execution_count": 88,
     "metadata": {},
     "output_type": "execute_result"
    }
   ],
   "source": [
    "result_one = cur.execute(\"SELECT product_line, region, year, sum(revenue)/count(*) as avg_revenue,sum(forecast_revenue)/count(*) as avg_forecast,count(*) as num_of_orders FROM sales GROUP BY product_line, region, year ORDER BY product_line, region, year;\").fetchall()\n",
    "df_one = DataFrame(result_one)\n",
    "df_one.columns = list(map(lambda x: x[0], cur.description))\n",
    "df_one.head()"
   ]
  },
  {
   "cell_type": "code",
   "execution_count": 89,
   "metadata": {
    "collapsed": true
   },
   "outputs": [],
   "source": [
    "df_one.to_csv('df_one.csv')"
   ]
  },
  {
   "cell_type": "markdown",
   "metadata": {},
   "source": [
    "**Find the most profitable product line in the Americas in 2012.**"
   ]
  },
  {
   "cell_type": "code",
   "execution_count": 146,
   "metadata": {
    "collapsed": false,
    "scrolled": true
   },
   "outputs": [
    {
     "data": {
      "text/html": [
       "<div>\n",
       "<table border=\"1\" class=\"dataframe\">\n",
       "  <thead>\n",
       "    <tr style=\"text-align: right;\">\n",
       "      <th></th>\n",
       "      <th>product_line</th>\n",
       "      <th>total_revenue</th>\n",
       "    </tr>\n",
       "  </thead>\n",
       "  <tbody>\n",
       "    <tr>\n",
       "      <th>0</th>\n",
       "      <td>Camping Equipment</td>\n",
       "      <td>55789422.00</td>\n",
       "    </tr>\n",
       "    <tr>\n",
       "      <th>1</th>\n",
       "      <td>Personal Accessories</td>\n",
       "      <td>47693380.89</td>\n",
       "    </tr>\n",
       "    <tr>\n",
       "      <th>2</th>\n",
       "      <td>Golf Equipment</td>\n",
       "      <td>19774216.77</td>\n",
       "    </tr>\n",
       "    <tr>\n",
       "      <th>3</th>\n",
       "      <td>Mountaineering Equipment</td>\n",
       "      <td>12398325.64</td>\n",
       "    </tr>\n",
       "    <tr>\n",
       "      <th>4</th>\n",
       "      <td>Outdoor Protection</td>\n",
       "      <td>895877.14</td>\n",
       "    </tr>\n",
       "  </tbody>\n",
       "</table>\n",
       "</div>"
      ],
      "text/plain": [
       "               product_line  total_revenue\n",
       "0         Camping Equipment    55789422.00\n",
       "1      Personal Accessories    47693380.89\n",
       "2            Golf Equipment    19774216.77\n",
       "3  Mountaineering Equipment    12398325.64\n",
       "4        Outdoor Protection      895877.14"
      ]
     },
     "execution_count": 146,
     "metadata": {},
     "output_type": "execute_result"
    }
   ],
   "source": [
    "query_two = \"select product_line,sum(avg_revenue*num_of_orders) as total_revenue from (SELECT product_line, region, year, sum(revenue)/count(*) as avg_revenue, sum(forecast_revenue)/count(*) as avg_forecast, count(*) as num_of_orders FROM sales group by product_line, region, year order by product_line, region, year) where year ='2012' and region='Americas' group by product_line order by total_revenue desc;\"\n",
    "result_two = cur.execute(query_two).fetchall()\n",
    "df_two = DataFrame(result_two)\n",
    "df_two.columns = list(map(lambda x: x[0], cur.description))\n",
    "df_two.head()"
   ]
  },
  {
   "cell_type": "code",
   "execution_count": 155,
   "metadata": {
    "collapsed": false
   },
   "outputs": [],
   "source": [
    "df_two.to_csv('df_two.csv')"
   ]
  },
  {
   "cell_type": "code",
   "execution_count": 147,
   "metadata": {
    "collapsed": false
   },
   "outputs": [
    {
     "data": {
      "text/html": [
       "<div>\n",
       "<table border=\"1\" class=\"dataframe\">\n",
       "  <thead>\n",
       "    <tr style=\"text-align: right;\">\n",
       "      <th></th>\n",
       "      <th>product_line</th>\n",
       "      <th>total</th>\n",
       "    </tr>\n",
       "  </thead>\n",
       "  <tbody>\n",
       "    <tr>\n",
       "      <th>0</th>\n",
       "      <td>Camping Equipment</td>\n",
       "      <td>55789422.00</td>\n",
       "    </tr>\n",
       "    <tr>\n",
       "      <th>1</th>\n",
       "      <td>Personal Accessories</td>\n",
       "      <td>47693380.89</td>\n",
       "    </tr>\n",
       "    <tr>\n",
       "      <th>2</th>\n",
       "      <td>Golf Equipment</td>\n",
       "      <td>19774216.77</td>\n",
       "    </tr>\n",
       "    <tr>\n",
       "      <th>3</th>\n",
       "      <td>Mountaineering Equipment</td>\n",
       "      <td>12398325.64</td>\n",
       "    </tr>\n",
       "    <tr>\n",
       "      <th>4</th>\n",
       "      <td>Outdoor Protection</td>\n",
       "      <td>895877.14</td>\n",
       "    </tr>\n",
       "  </tbody>\n",
       "</table>\n",
       "</div>"
      ],
      "text/plain": [
       "               product_line        total\n",
       "0         Camping Equipment  55789422.00\n",
       "1      Personal Accessories  47693380.89\n",
       "2            Golf Equipment  19774216.77\n",
       "3  Mountaineering Equipment  12398325.64\n",
       "4        Outdoor Protection    895877.14"
      ]
     },
     "execution_count": 147,
     "metadata": {},
     "output_type": "execute_result"
    }
   ],
   "source": [
    "query_two_2 = \"SELECT product_line,sum(revenue) as total FROM sales WHERE year='2012' AND region='Americas' GROUP BY product_line ORDER BY total DESC;\"\n",
    "result_two_2 = cur.execute(query_two_2).fetchall()\n",
    "df_two_2 = DataFrame(result_two_2)\n",
    "df_two_2.columns = list(map(lambda x: x[0], cur.description))\n",
    "df_two_2.head()"
   ]
  }
 ],
 "metadata": {
  "anaconda-cloud": {},
  "kernelspec": {
   "display_name": "Python [Root]",
   "language": "python",
   "name": "Python [Root]"
  },
  "language_info": {
   "codemirror_mode": {
    "name": "ipython",
    "version": 3
   },
   "file_extension": ".py",
   "mimetype": "text/x-python",
   "name": "python",
   "nbconvert_exporter": "python",
   "pygments_lexer": "ipython3",
   "version": "3.5.2"
  }
 },
 "nbformat": 4,
 "nbformat_minor": 0
}
