{
 "cells": [
  {
   "cell_type": "code",
   "execution_count": 1,
   "metadata": {
    "collapsed": false
   },
   "outputs": [],
   "source": [
    "def kmeans():\n",
    "    import zipfile\n",
    "    import pandas as pd\n",
    "    from sklearn.cluster import KMeans\n",
    "    from sklearn.feature_extraction.text import TfidfVectorizer\n",
    "    import glob, os\n",
    "    \n",
    "    with zipfile.ZipFile(\"snowden.zip\",\"r\") as zip_ref:\n",
    "         zip_ref.extractall(\"snowden\")\n",
    "    \n",
    "    os.chdir(\"C:\\\\Users\\\\Miya\\\\OneDrive\\\\Miya'sGithub\\\\Big-Data-Course-Projects\\snowden\")\n",
    "    file_list = [file for file in glob.glob(\"*.txt\")]\n",
    "    len(file_list)\n",
    "    \n",
    "    \n",
    "    content_list = []\n",
    "    \n",
    "    for file in file_list:\n",
    "        with open(file, encoding=\"utf8\") as content_file:\n",
    "            content_list.append(content_file.read())\n",
    "        \n",
    "    content_df = pd.DataFrame.from_dict({'content':content_list})\n",
    "    \n",
    "    content = content_df.content\n",
    "    \n",
    "    \n",
    "    tfidf_vectorizer = TfidfVectorizer(\n",
    "    min_df= 2,\n",
    "    max_df = 85,# min count for relevant vocabulary\n",
    "    # by their corresponding  ASCII char\n",
    "    analyzer='word',  # features made of words\n",
    "    token_pattern=u'[a-z]+',  # tokenize only words of 4+ chars\n",
    "    ngram_range=(1, 2),  # features made of a single tokens\n",
    "    use_idf=True,  # enable inverse-document-frequency reweighting\n",
    "    smooth_idf=True,  # prevents zero division for unseen words\n",
    "    sublinear_tf=False)\n",
    "    \n",
    "    desc_vect = tfidf_vectorizer.fit_transform(content)\n",
    "    \n",
    "    \n",
    "    coo = desc_vect.tocoo(copy = False)\n",
    "    df_word_matrix = pd.DataFrame({'index': coo.row, 'feature': coo.col, 'data': coo.data}\n",
    "                 )[['index', 'feature', 'data']].sort_values(['index', 'feature']).reset_index(drop=True)\n",
    "    word_matrix = df_word_matrix.pivot('index', 'feature', 'data')\n",
    "    word_matrix = word_matrix.fillna(0)\n",
    "    \n",
    "    km = KMeans(n_clusters = 10)\n",
    "    km.fit(word_matrix)\n",
    "    clusters = km.labels_.tolist()\n",
    "    df_ngram= pd.DataFrame({'word': word_matrix.index, 'cluster': clusters})\n",
    "    df_ngram.groupby('cluster').get_group(1)\n",
    "    content_list_2 = []\n",
    "    for i in df_ngram.word:\n",
    "        content_list_2.append(content[i])\n",
    "    df_ngram['content'] = content_list_2\n",
    "    report = df_ngram.groupby('cluster').count()\n",
    "    print(df_ngram)\n",
    "    return report"
   ]
  },
  {
   "cell_type": "code",
   "execution_count": 2,
   "metadata": {
    "collapsed": true
   },
   "outputs": [],
   "source": [
    "import time"
   ]
  },
  {
   "cell_type": "code",
   "execution_count": 3,
   "metadata": {
    "collapsed": false
   },
   "outputs": [
    {
     "name": "stdout",
     "output_type": "stream",
     "text": [
      "      cluster  word                                            content\n",
      "0           1     0  RT @UnToldCarlisle: Over 1.3 million people ha...\n",
      "1           1     1  RT @UnToldCarlisle: Over 1.3 million people ha...\n",
      "2           1     2  RT @UnToldCarlisle: Over 1.3 million people ha...\n",
      "3           1     3  RT @UnToldCarlisle: Over 1.3 million people ha...\n",
      "4           1     4  RT @UnToldCarlisle: Over 1.3 million people ha...\n",
      "5           1     5  RT @UnToldCarlisle: Over 1.3 million people ha...\n",
      "6           1     6  RT @UnToldCarlisle: Over 1.3 million people ha...\n",
      "7           1     7  RT @UnToldCarlisle: Over 1.3 million people ha...\n",
      "8           1     8  RT @UnToldCarlisle: Over 1.3 million people ha...\n",
      "9           1     9  RT @UnToldCarlisle: Over 1.3 million people ha...\n",
      "10          1    10  RT @UnToldCarlisle: Over 1.3 million people ha...\n",
      "11          3    11  RT @digiphile: .@JesselynRadack on #ThisWeek: ...\n",
      "12          3    12  RT @digiphile: .@JesselynRadack on #ThisWeek: ...\n",
      "13          3    13  #Snowden travel to Russia in search of asylum ...\n",
      "14          3    14  #Snowden travel to Russia in search of asylum ...\n",
      "15          3    15  #Snowden travel to Russia in search of asylum ...\n",
      "16          3    16  #Snowden travel to Russia in search of asylum ...\n",
      "17          3    17  #Snowden travel to Russia in search of asylum ...\n",
      "18          3    18  #Snowden travel to Russia in search of asylum ...\n",
      "19          3    19  #Snowden travel to Russia in search of asylum ...\n",
      "20          3    20  #Snowden travel to Russia in search of asylum ...\n",
      "21          3    21  #Snowden travel to Russia in search of asylum ...\n",
      "22          3    22  #Snowden travel to Russia in search of asylum ...\n",
      "23          3    23  #Snowden travel to Russia in search of asylum ...\n",
      "24          3    24  #Snowden travel to Russia in search of asylum ...\n",
      "25          3    25  #Snowden travel to Russia in search of asylum ...\n",
      "26          3    26  #Snowden travel to Russia in search of asylum ...\n",
      "27          3    27  #Snowden travel to Russia in search of asylum ...\n",
      "28          3    28  RT @marcmurd: New show: The #whistleblower. 6 ...\n",
      "29          3    29  RT @marcmurd: New show: The #whistleblower. 6 ...\n",
      "...       ...   ...                                                ...\n",
      "1164        5  1412  #GlennGreenwald: #Speaking on #NSA stories, #S...\n",
      "1165        5  1413  #GlennGreenwald: #Speaking on #NSA stories, #S...\n",
      "1166        5  1414  #GlennGreenwald: #Speaking on #NSA stories, #S...\n",
      "1167        5  1415  #GlennGreenwald: #Speaking on #NSA stories, #S...\n",
      "1168        5  1416  #GlennGreenwald: #Speaking on #NSA stories, #S...\n",
      "1169        5  1417  #GlennGreenwald: #Speaking on #NSA stories, #S...\n",
      "1170        5  1418  #GlennGreenwald: #Speaking on #NSA stories, #S...\n",
      "1171        5  1419  #GlennGreenwald: #Speaking on #NSA stories, #S...\n",
      "1172        5  1420  #GlennGreenwald: #Speaking on #NSA stories, #S...\n",
      "1173        5  1421  #GlennGreenwald: #Speaking on #NSA stories, #S...\n",
      "1174        5  1422  #GlennGreenwald: #Speaking on #NSA stories, #S...\n",
      "1175        5  1423  #GlennGreenwald: #Speaking on #NSA stories, #S...\n",
      "1176        5  1424  #GlennGreenwald: #Speaking on #NSA stories, #S...\n",
      "1177        5  1425  #GlennGreenwald: #Speaking on #NSA stories, #S...\n",
      "1178        5  1426  #GlennGreenwald: #Speaking on #NSA stories, #S...\n",
      "1179        3  1442  RT @iLL_ugLy: THE WORLD GETTING PISSED WITH OB...\n",
      "1180        3  1443  RT @iLL_ugLy: THE WORLD GETTING PISSED WITH OB...\n",
      "1181        3  1444  RT @iLL_ugLy: THE WORLD GETTING PISSED WITH OB...\n",
      "1182        3  1445  RT @iLL_ugLy: THE WORLD GETTING PISSED WITH OB...\n",
      "1183        3  1446  RT @iLL_ugLy: THE WORLD GETTING PISSED WITH OB...\n",
      "1184        3  1447  RT @iLL_ugLy: THE WORLD GETTING PISSED WITH OB...\n",
      "1185        3  1448  RT @iLL_ugLy: THE WORLD GETTING PISSED WITH OB...\n",
      "1186        3  1449  RT @iLL_ugLy: THE WORLD GETTING PISSED WITH OB...\n",
      "1187        3  1450  RT @iLL_ugLy: THE WORLD GETTING PISSED WITH OB...\n",
      "1188        3  1451  RT @iLL_ugLy: THE WORLD GETTING PISSED WITH OB...\n",
      "1189        3  1452  RT @iLL_ugLy: THE WORLD GETTING PISSED WITH OB...\n",
      "1190        3  1453  RT @iLL_ugLy: THE WORLD GETTING PISSED WITH OB...\n",
      "1191        3  1454  RT @iLL_ugLy: THE WORLD GETTING PISSED WITH OB...\n",
      "1192        3  1455  RT @iLL_ugLy: THE WORLD GETTING PISSED WITH OB...\n",
      "1193        3  1456  RT @iLL_ugLy: THE WORLD GETTING PISSED WITH OB...\n",
      "\n",
      "[1194 rows x 3 columns]\n",
      "--- 9.072273969650269 seconds ---\n"
     ]
    }
   ],
   "source": [
    "start_time = time.time()\n",
    "kmeans =  kmeans()\n",
    "print(\"--- %s seconds ---\" % (time.time() - start_time))"
   ]
  },
  {
   "cell_type": "code",
   "execution_count": 6,
   "metadata": {
    "collapsed": false
   },
   "outputs": [
    {
     "data": {
      "text/html": [
       "<div>\n",
       "<table border=\"1\" class=\"dataframe\">\n",
       "  <thead>\n",
       "    <tr style=\"text-align: right;\">\n",
       "      <th></th>\n",
       "      <th>word</th>\n",
       "      <th>content</th>\n",
       "    </tr>\n",
       "    <tr>\n",
       "      <th>cluster</th>\n",
       "      <th></th>\n",
       "      <th></th>\n",
       "    </tr>\n",
       "  </thead>\n",
       "  <tbody>\n",
       "    <tr>\n",
       "      <th>0</th>\n",
       "      <td>73</td>\n",
       "      <td>73</td>\n",
       "    </tr>\n",
       "    <tr>\n",
       "      <th>1</th>\n",
       "      <td>41</td>\n",
       "      <td>41</td>\n",
       "    </tr>\n",
       "    <tr>\n",
       "      <th>2</th>\n",
       "      <td>105</td>\n",
       "      <td>105</td>\n",
       "    </tr>\n",
       "    <tr>\n",
       "      <th>3</th>\n",
       "      <td>349</td>\n",
       "      <td>349</td>\n",
       "    </tr>\n",
       "    <tr>\n",
       "      <th>4</th>\n",
       "      <td>58</td>\n",
       "      <td>58</td>\n",
       "    </tr>\n",
       "    <tr>\n",
       "      <th>5</th>\n",
       "      <td>45</td>\n",
       "      <td>45</td>\n",
       "    </tr>\n",
       "    <tr>\n",
       "      <th>6</th>\n",
       "      <td>60</td>\n",
       "      <td>60</td>\n",
       "    </tr>\n",
       "    <tr>\n",
       "      <th>7</th>\n",
       "      <td>124</td>\n",
       "      <td>124</td>\n",
       "    </tr>\n",
       "    <tr>\n",
       "      <th>8</th>\n",
       "      <td>210</td>\n",
       "      <td>210</td>\n",
       "    </tr>\n",
       "    <tr>\n",
       "      <th>9</th>\n",
       "      <td>129</td>\n",
       "      <td>129</td>\n",
       "    </tr>\n",
       "  </tbody>\n",
       "</table>\n",
       "</div>"
      ],
      "text/plain": [
       "         word  content\n",
       "cluster               \n",
       "0          73       73\n",
       "1          41       41\n",
       "2         105      105\n",
       "3         349      349\n",
       "4          58       58\n",
       "5          45       45\n",
       "6          60       60\n",
       "7         124      124\n",
       "8         210      210\n",
       "9         129      129"
      ]
     },
     "execution_count": 6,
     "metadata": {},
     "output_type": "execute_result"
    }
   ],
   "source": [
    "kmeans"
   ]
  },
  {
   "cell_type": "code",
   "execution_count": 10,
   "metadata": {
    "collapsed": false
   },
   "outputs": [
    {
     "data": {
      "text/plain": [
       "Index(['word', 'content'], dtype='object')"
      ]
     },
     "execution_count": 10,
     "metadata": {},
     "output_type": "execute_result"
    }
   ],
   "source": [
    "kmeans.columns"
   ]
  },
  {
   "cell_type": "code",
   "execution_count": 18,
   "metadata": {
    "collapsed": false
   },
   "outputs": [
    {
     "data": {
      "text/plain": [
       "<matplotlib.axes._subplots.AxesSubplot at 0x21ca9af128>"
      ]
     },
     "execution_count": 18,
     "metadata": {},
     "output_type": "execute_result"
    },
    {
     "data": {
      "image/png": "[encoded data removed]",
      "text/plain": [
       "<matplotlib.figure.Figure at 0x21ca944e80>"
      ]
     },
     "metadata": {},
     "output_type": "display_data"
    }
   ],
   "source": [
    "%matplotlib inline\n",
    "kmeans['word'].plot(kind = 'bar')"
   ]
  }
 ],
 "metadata": {
  "anaconda-cloud": {},
  "kernelspec": {
   "display_name": "Python [Root]",
   "language": "python",
   "name": "Python [Root]"
  },
  "language_info": {
   "codemirror_mode": {
    "name": "ipython",
    "version": 3
   },
   "file_extension": ".py",
   "mimetype": "text/x-python",
   "name": "python",
   "nbconvert_exporter": "python",
   "pygments_lexer": "ipython3",
   "version": "3.5.2"
  }
 },
 "nbformat": 4,
 "nbformat_minor": 0
}
