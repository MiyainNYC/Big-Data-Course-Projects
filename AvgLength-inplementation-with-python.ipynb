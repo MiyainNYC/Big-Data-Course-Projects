{
 "cells": [
  {
   "cell_type": "code",
   "execution_count": 1,
   "metadata": {
    "collapsed": true
   },
   "outputs": [],
   "source": [
    "import tarfile"
   ]
  },
  {
   "cell_type": "code",
   "execution_count": 2,
   "metadata": {
    "collapsed": false
   },
   "outputs": [
    {
     "data": {
      "text/plain": [
       "\"C:\\\\Users\\\\Miya\\\\OneDrive\\\\Miya'sGithub\\\\Big-Data-Course-Projects\""
      ]
     },
     "execution_count": 2,
     "metadata": {},
     "output_type": "execute_result"
    }
   ],
   "source": [
    "pwd"
   ]
  },
  {
   "cell_type": "code",
   "execution_count": 3,
   "metadata": {
    "collapsed": false
   },
   "outputs": [
    {
     "name": "stdout",
     "output_type": "stream",
     "text": [
      "C:\\Users\\Miya\\OneDrive\\Miya'sGithub\\Big-Data-Course-Projects\\assign\\assign2\n"
     ]
    }
   ],
   "source": [
    "cd assign/assign2"
   ]
  },
  {
   "cell_type": "markdown",
   "metadata": {},
   "source": [
    "### Unzip the file"
   ]
  },
  {
   "cell_type": "code",
   "execution_count": 4,
   "metadata": {
    "collapsed": true
   },
   "outputs": [],
   "source": [
    "filename = 'shakespeare'"
   ]
  },
  {
   "cell_type": "code",
   "execution_count": 5,
   "metadata": {
    "collapsed": true
   },
   "outputs": [],
   "source": [
    "tar = tarfile.open(filename+'.tar.gz', \"r:gz\")\n",
    "for member in tar.getmembers():\n",
    "     tar.extract(member)"
   ]
  },
  {
   "cell_type": "code",
   "execution_count": 6,
   "metadata": {
    "collapsed": false
   },
   "outputs": [
    {
     "name": "stdout",
     "output_type": "stream",
     "text": [
      "C:\\Users\\Miya\\OneDrive\\Miya'sGithub\\Big-Data-Course-Projects\\assign\\assign2\\shakespeare\n"
     ]
    }
   ],
   "source": [
    "cd shakespeare"
   ]
  },
  {
   "cell_type": "code",
   "execution_count": 7,
   "metadata": {
    "collapsed": false,
    "scrolled": true
   },
   "outputs": [
    {
     "name": "stdout",
     "output_type": "stream",
     "text": [
      " Volume in drive C is OS\n",
      " Volume Serial Number is C803-CD91\n",
      "\n",
      " Directory of C:\\Users\\Miya\\OneDrive\\Miya'sGithub\\Big-Data-Course-Projects\\assign\\assign2\\shakespeare\n",
      "\n",
      "09/24/2010  08:05 PM    <DIR>          .\n",
      "09/24/2010  08:05 PM    <DIR>          ..\n",
      "09/24/2010  08:05 PM         1,784,616 comedies\n",
      "09/24/2010  08:05 PM            58,976 glossary\n",
      "09/24/2010  08:05 PM         1,479,035 histories\n",
      "09/24/2010  08:05 PM           268,140 poems\n",
      "09/24/2010  08:05 PM         1,752,440 tragedies\n",
      "               5 File(s)      5,343,207 bytes\n",
      "               2 Dir(s)  80,784,592,896 bytes free\n"
     ]
    }
   ],
   "source": [
    "ls"
   ]
  },
  {
   "cell_type": "markdown",
   "metadata": {},
   "source": [
    "### Algorithm"
   ]
  },
  {
   "cell_type": "code",
   "execution_count": 8,
   "metadata": {
    "collapsed": false
   },
   "outputs": [],
   "source": [
    "def avgWordLength_no_casesensitive(work):\n",
    "    import re\n",
    "    poems = []\n",
    "    with open(work, 'r') as f:\n",
    "        for line in f:\n",
    "            t = line.strip('\\n').strip('\\t').lower()\n",
    "            words = t.split()\n",
    "            if t != '':\n",
    "                poems.extend(words)\n",
    "    f.close()\n",
    "\n",
    "    pattern = re.compile(\"^([a-z])+$\")\n",
    "    for i in poems:\n",
    "        if not pattern.match(i):\n",
    "            poems.remove(i)   \n",
    "            \n",
    "    poems_with_first_letter = zip([i[0] for i in poems],poems)\n",
    "    \n",
    "    first_letter_word = []\n",
    "    \n",
    "    for i,v in poems_with_first_letter:\n",
    "        first_letter_word.append((i,v))\n",
    "    \n",
    "    dict_letter = {}\n",
    "    for i in first_letter_word:\n",
    "        if not i[0] in dict_letter.keys():\n",
    "            dict_letter[i[0]] = [i[1]]   \n",
    "        else:\n",
    "            dict_letter[i[0]].append(i[1])\n",
    "            \n",
    "    dict_avg = {}\n",
    "    for i in dict_letter.keys():\n",
    "        length = 0\n",
    "        for j in dict_letter[i]:\n",
    "            length += len(j)\n",
    "        avgLength = length/len(dict_letter[i])\n",
    "        dict_avg[i] = avgLength\n",
    "    return sorted(dict_avg.items(), key = lambda x:x[1], reverse = True)"
   ]
  },
  {
   "cell_type": "code",
   "execution_count": 9,
   "metadata": {
    "collapsed": false
   },
   "outputs": [
    {
     "name": "stdout",
     "output_type": "stream",
     "text": [
      "Wall time: 13.2 s\n"
     ]
    },
    {
     "data": {
      "text/plain": [
       "[('z', 7.0),\n",
       " ('c', 6.172939068100359),\n",
       " ('p', 6.085150571131879),\n",
       " ('r', 5.780621572212066),\n",
       " ('q', 5.581818181818182),\n",
       " ('v', 5.558252427184466),\n",
       " ('u', 5.295454545454546),\n",
       " ('g', 5.260296540362439),\n",
       " ('j', 5.243589743589744),\n",
       " ('e', 5.057256990679095),\n",
       " ('s', 4.859818731117825),\n",
       " ('d', 4.781437125748503),\n",
       " ('k', 4.7727272727272725),\n",
       " ('l', 4.753654970760234),\n",
       " ('x', 4.741379310344827),\n",
       " (\"'\", 4.6909090909090905),\n",
       " ('f', 4.595346197502837),\n",
       " ('w', 4.5537437603993345),\n",
       " ('b', 4.27750556792873),\n",
       " ('[', 4.0),\n",
       " ('y', 3.8524945770065075),\n",
       " ('t', 3.792511700468019),\n",
       " ('m', 3.691334894613583),\n",
       " ('h', 3.6866713189113747),\n",
       " ('n', 3.623097582811101),\n",
       " ('a', 3.1180742334588487),\n",
       " ('o', 2.693717277486911),\n",
       " ('i', 2.2964601769911503)]"
      ]
     },
     "execution_count": 9,
     "metadata": {},
     "output_type": "execute_result"
    }
   ],
   "source": [
    "%%time\n",
    "avgWordLength_no_casesensitive('poems')"
   ]
  },
  {
   "cell_type": "code",
   "execution_count": null,
   "metadata": {
    "collapsed": true
   },
   "outputs": [],
   "source": []
  }
 ],
 "metadata": {
  "anaconda-cloud": {},
  "kernelspec": {
   "display_name": "Python [Root]",
   "language": "python",
   "name": "Python [Root]"
  },
  "language_info": {
   "codemirror_mode": {
    "name": "ipython",
    "version": 3
   },
   "file_extension": ".py",
   "mimetype": "text/x-python",
   "name": "python",
   "nbconvert_exporter": "python",
   "pygments_lexer": "ipython3",
   "version": "3.5.2"
  }
 },
 "nbformat": 4,
 "nbformat_minor": 0
}
