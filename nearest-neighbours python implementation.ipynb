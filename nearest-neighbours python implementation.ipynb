{
 "cells": [
  {
   "cell_type": "code",
   "execution_count": 1,
   "metadata": {
    "collapsed": true
   },
   "outputs": [],
   "source": [
    "def nn():\n",
    "    import zipfile\n",
    "    import pandas as pd\n",
    "    from sklearn.neighbors import NearestNeighbors\n",
    "    from sklearn.feature_extraction.text import TfidfVectorizer\n",
    "    import glob, os\n",
    "    \n",
    "    with zipfile.ZipFile(\"snowden.zip\",\"r\") as zip_ref:\n",
    "         zip_ref.extractall(\"snowden\")\n",
    "    \n",
    "    os.chdir(\"C:\\\\Users\\\\Miya\\\\OneDrive\\\\Miya'sGithub\\\\Big-Data-Course-Projects\\snowden\")\n",
    "    file_list = [file for file in glob.glob(\"*.txt\")]\n",
    "    len(file_list)\n",
    "    \n",
    "    \n",
    "    content_list = []\n",
    "    \n",
    "    for file in file_list:\n",
    "        with open(file, encoding=\"utf8\") as content_file:\n",
    "            content_list.append(content_file.read())\n",
    "        \n",
    "    content_df = pd.DataFrame.from_dict({'content':content_list})\n",
    "    \n",
    "    content = content_df.content\n",
    "    \n",
    "    \n",
    "    tfidf_vectorizer = TfidfVectorizer(\n",
    "    min_df= 2,\n",
    "    max_df = 85,# min count for relevant vocabulary\n",
    "    # by their corresponding  ASCII char\n",
    "    analyzer='word',  # features made of words\n",
    "    token_pattern=u'[a-z]+',  # tokenize only words of 4+ chars\n",
    "    ngram_range=(1, 2),  # features made of a single tokens\n",
    "    use_idf=True,  # enable inverse-document-frequency reweighting\n",
    "    smooth_idf=True,  # prevents zero division for unseen words\n",
    "    sublinear_tf=False)\n",
    "    \n",
    "    desc_vect = tfidf_vectorizer.fit_transform(content)\n",
    "    \n",
    "    \n",
    "    coo = desc_vect.tocoo(copy = False)\n",
    "    df_word_matrix = pd.DataFrame({'index': coo.row, 'feature': coo.col, 'data': coo.data}\n",
    "                 )[['index', 'feature', 'data']].sort_values(['index', 'feature']).reset_index(drop=True)\n",
    "    word_matrix = df_word_matrix.pivot('index', 'feature', 'data')\n",
    "    word_matrix = word_matrix.fillna(0)\n",
    "    \n",
    "    \n",
    "    nbrs = NearestNeighbors(n_neighbors=10, algorithm='brute').fit(word_matrix)\n",
    "    \n",
    "    distances, indices = nbrs.kneighbors(word_matrix)\n",
    "    \n",
    "    \n",
    "    print(indices)\n",
    "    \n",
    "    return indices\n",
    "    return distances"
   ]
  },
  {
   "cell_type": "code",
   "execution_count": 2,
   "metadata": {
    "collapsed": false
   },
   "outputs": [
    {
     "name": "stdout",
     "output_type": "stream",
     "text": [
      "[[ 458  457    0 ...,  453  455 1003]\n",
      " [ 458  457    0 ...,  453  455 1003]\n",
      " [ 458  457    0 ...,  453  455 1003]\n",
      " ..., \n",
      " [1184 1187 1179 ..., 1186 1191 1190]\n",
      " [1184 1187 1179 ..., 1181 1190 1191]\n",
      " [1184 1187 1179 ..., 1181 1190 1191]]\n",
      "--- 9.60996127128601 seconds ---\n"
     ]
    }
   ],
   "source": [
    "import time\n",
    "start_time = time.time()\n",
    "nn =  nn()\n",
    "print(\"--- %s seconds ---\" % (time.time() - start_time))"
   ]
  },
  {
   "cell_type": "code",
   "execution_count": 4,
   "metadata": {
    "collapsed": true
   },
   "outputs": [],
   "source": [
    "dict_nn = {}\n",
    "for key, neighbours in zip(list(range(1456)),nn):\n",
    "    dict_nn[key] = neighbours"
   ]
  },
  {
   "cell_type": "code",
   "execution_count": 5,
   "metadata": {
    "collapsed": false
   },
   "outputs": [],
   "source": [
    "import pandas as pd\n",
    "dict_nn_df = {}\n",
    "for i in range(10):\n",
    "    column_i = list(map(lambda x: x[i],dict_nn.values()))\n",
    "    dict_nn_df[i] = column_i"
   ]
  },
  {
   "cell_type": "code",
   "execution_count": 6,
   "metadata": {
    "collapsed": false
   },
   "outputs": [],
   "source": [
    "neighbours_df = pd.DataFrame.from_dict(dict_nn_df)"
   ]
  },
  {
   "cell_type": "code",
   "execution_count": 30,
   "metadata": {
    "collapsed": false
   },
   "outputs": [
    {
     "data": {
      "text/plain": [
       "<matplotlib.axes._subplots.AxesSubplot at 0x1f27777390>"
      ]
     },
     "execution_count": 30,
     "metadata": {},
     "output_type": "execute_result"
    },
    {
     "data": {
      "image/png": "[encoded data removed]",
      "text/plain": [
       "<matplotlib.figure.Figure at 0x1f27785c18>"
      ]
     },
     "metadata": {},
     "output_type": "display_data"
    }
   ],
   "source": [
    "%matplotlib inline\n",
    "neighbours_df[neighbours_df.columns[0]].value_counts()[:20].plot(kind = 'bar')"
   ]
  },
  {
   "cell_type": "code",
   "execution_count": null,
   "metadata": {
    "collapsed": true
   },
   "outputs": [],
   "source": []
  }
 ],
 "metadata": {
  "anaconda-cloud": {},
  "kernelspec": {
   "display_name": "Python [Root]",
   "language": "python",
   "name": "Python [Root]"
  },
  "language_info": {
   "codemirror_mode": {
    "name": "ipython",
    "version": 3
   },
   "file_extension": ".py",
   "mimetype": "text/x-python",
   "name": "python",
   "nbconvert_exporter": "python",
   "pygments_lexer": "ipython3",
   "version": "3.5.2"
  }
 },
 "nbformat": 4,
 "nbformat_minor": 0
}
